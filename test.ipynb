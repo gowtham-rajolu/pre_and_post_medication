{
 "cells": [
  {
   "cell_type": "code",
   "execution_count": 2,
   "id": "377ce1af",
   "metadata": {},
   "outputs": [
    {
     "name": "stdout",
     "output_type": "stream",
     "text": [
      "Columns: ['Patient_ID', 'Age', 'Gender', 'BMI', 'ASA_Score', 'Diabetes', 'Hypertension', 'Heart_Disease', 'Preop_Hb', 'Preop_WBC', 'Surgery_Type', 'Duration_Min', 'Blood_Loss_ml', 'Vital_Instability', 'Postop_Hb', 'Postop_WBC', 'Complication', 'Risk_Score', 'Recommended_Medication', 'Dosage', 'Duration']\n"
     ]
    }
   ],
   "source": [
    "import pandas as pd\n",
    "\n",
    "df = pd.read_csv(\"perioperative_updated_1200.csv\")\n",
    "print(\"Columns:\", df.columns.tolist())\n"
   ]
  },
  {
   "cell_type": "code",
   "execution_count": null,
   "id": "21d7ddce",
   "metadata": {},
   "outputs": [],
   "source": []
  }
 ],
 "metadata": {
  "kernelspec": {
   "display_name": ".venv",
   "language": "python",
   "name": "python3"
  },
  "language_info": {
   "codemirror_mode": {
    "name": "ipython",
    "version": 3
   },
   "file_extension": ".py",
   "mimetype": "text/x-python",
   "name": "python",
   "nbconvert_exporter": "python",
   "pygments_lexer": "ipython3",
   "version": "3.13.5"
  }
 },
 "nbformat": 4,
 "nbformat_minor": 5
}
